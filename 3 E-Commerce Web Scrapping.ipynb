{
  "cells": [
    {
      "cell_type": "code",
      "execution_count": 1,
      "metadata": {
        "colab": {
          "base_uri": "https://localhost:8080/"
        },
        "id": "5ohW1O2eWPkF",
        "outputId": "a17fa15e-650a-4cbb-8729-c8ab20c2a792"
      },
      "outputs": [
        {
          "name": "stdout",
          "output_type": "stream",
          "text": [
            "Requirement already satisfied: requests in c:\\users\\swathi\\appdata\\local\\programs\\python\\python312\\lib\\site-packages (2.32.3)\n",
            "Requirement already satisfied: charset-normalizer<4,>=2 in c:\\users\\swathi\\appdata\\local\\programs\\python\\python312\\lib\\site-packages (from requests) (3.3.2)\n",
            "Requirement already satisfied: idna<4,>=2.5 in c:\\users\\swathi\\appdata\\local\\programs\\python\\python312\\lib\\site-packages (from requests) (3.7)\n",
            "Requirement already satisfied: urllib3<3,>=1.21.1 in c:\\users\\swathi\\appdata\\local\\programs\\python\\python312\\lib\\site-packages (from requests) (2.2.2)\n",
            "Requirement already satisfied: certifi>=2017.4.17 in c:\\users\\swathi\\appdata\\local\\programs\\python\\python312\\lib\\site-packages (from requests) (2024.7.4)\n",
            "Requirement already satisfied: pandas in c:\\users\\swathi\\appdata\\local\\programs\\python\\python312\\lib\\site-packages (2.2.2)\n",
            "Requirement already satisfied: numpy>=1.26.0 in c:\\users\\swathi\\appdata\\local\\programs\\python\\python312\\lib\\site-packages (from pandas) (2.0.1)\n",
            "Requirement already satisfied: python-dateutil>=2.8.2 in c:\\users\\swathi\\appdata\\local\\programs\\python\\python312\\lib\\site-packages (from pandas) (2.9.0.post0)\n",
            "Requirement already satisfied: pytz>=2020.1 in c:\\users\\swathi\\appdata\\local\\programs\\python\\python312\\lib\\site-packages (from pandas) (2024.2)\n",
            "Requirement already satisfied: tzdata>=2022.7 in c:\\users\\swathi\\appdata\\local\\programs\\python\\python312\\lib\\site-packages (from pandas) (2024.1)\n",
            "Requirement already satisfied: six>=1.5 in c:\\users\\swathi\\appdata\\local\\programs\\python\\python312\\lib\\site-packages (from python-dateutil>=2.8.2->pandas) (1.16.0)\n",
            "Requirement already satisfied: BeautifulSoup4 in c:\\users\\swathi\\appdata\\local\\programs\\python\\python312\\lib\\site-packages (4.12.3)\n",
            "Requirement already satisfied: soupsieve>1.2 in c:\\users\\swathi\\appdata\\local\\programs\\python\\python312\\lib\\site-packages (from BeautifulSoup4) (2.5)\n"
          ]
        }
      ],
      "source": [
        "# Installing the Required Modules\n",
        "\n",
        "! pip install requests\n",
        "! pip install pandas\n",
        "! pip install BeautifulSoup4"
      ]
    },
    {
      "cell_type": "code",
      "execution_count": 2,
      "metadata": {
        "id": "QNHnI7wkXQVC"
      },
      "outputs": [],
      "source": [
        "# Importing Modules\n",
        "\n",
        "import pandas\n",
        "import requests\n",
        "from bs4 import BeautifulSoup"
      ]
    },
    {
      "cell_type": "code",
      "execution_count": 3,
      "metadata": {
        "colab": {
          "base_uri": "https://localhost:8080/"
        },
        "id": "CJM1roOeXl5O",
        "outputId": "ce4430ac-b438-4aef-c000-48e2a4581d43"
      },
      "outputs": [
        {
          "name": "stdout",
          "output_type": "stream",
          "text": [
            "<Response [404]>\n"
          ]
        }
      ],
      "source": [
        "# Requesting The Connection with Link\n",
        "\n",
        "s_res=requests.get('https://www.vijaysales.com/tv-and-entertainment/televisions/brand/buy-samsung-televisions')\n",
        "print(s_res)"
      ]
    },
    {
      "cell_type": "code",
      "execution_count": 4,
      "metadata": {
        "colab": {
          "base_uri": "https://localhost:8080/"
        },
        "id": "-Qb0LU3cYLBS",
        "outputId": "d21c0954-396b-44dc-9031-16fa52b3c1e7"
      },
      "outputs": [
        {
          "data": {
            "text/plain": [
              "[]"
            ]
          },
          "execution_count": 4,
          "metadata": {},
          "output_type": "execute_result"
        }
      ],
      "source": [
        "# Web Scraping the Product Names of Samsung TV\n",
        "\n",
        "s_soup=BeautifulSoup(s_res.content,'html.parser')\n",
        "s_names=s_soup.find_all('h2',class_='BcktPrdNm_')\n",
        "S_Names=[]\n",
        "for i in s_names:\n",
        "  f=i.get_text()\n",
        "  S_Names.append(f)\n",
        "S_Names"
      ]
    },
    {
      "cell_type": "code",
      "execution_count": 5,
      "metadata": {
        "colab": {
          "base_uri": "https://localhost:8080/"
        },
        "id": "aeHx4x-KuTto",
        "outputId": "ea650ac1-cb8f-4ffd-8dce-1706e9b3d458"
      },
      "outputs": [
        {
          "data": {
            "text/plain": [
              "[]"
            ]
          },
          "execution_count": 5,
          "metadata": {},
          "output_type": "execute_result"
        }
      ],
      "source": [
        "# Web Scraping the Product Price of Samsung TV\n",
        "\n",
        "s_price=s_soup.find_all('span',class_='Prdvsprc_')\n",
        "S_Price=[]\n",
        "for i in s_price:\n",
        "  f=i.get_text()\n",
        "  S_Price.append(f)\n",
        "S_Price\n",
        "import re\n",
        "Sam_Price=[]\n",
        "for i in S_Price:\n",
        "  ss=re.sub('[^A-Za-z0-9]+', '', i)\n",
        "  Sam_Price.append(ss)\n",
        "Sam_Price"
      ]
    },
    {
      "cell_type": "code",
      "execution_count": 6,
      "metadata": {
        "colab": {
          "base_uri": "https://localhost:8080/"
        },
        "id": "7xzmeEv6vqHP",
        "outputId": "06b5d167-676b-492c-8219-d1cc634cdcca"
      },
      "outputs": [
        {
          "data": {
            "text/plain": [
              "[]"
            ]
          },
          "execution_count": 6,
          "metadata": {},
          "output_type": "execute_result"
        }
      ],
      "source": [
        "# Web Scraping the Product EMI Details of Samsung TV\n",
        "\n",
        "s_emi=s_soup.find_all('div',class_='BcktPrdemi h54')\n",
        "S_EMI=[]\n",
        "for i in s_emi:\n",
        "  f=i.get_text()\n",
        "  S_EMI.append(f)\n",
        "S_EMI"
      ]
    },
    {
      "cell_type": "code",
      "execution_count": 7,
      "metadata": {
        "colab": {
          "base_uri": "https://localhost:8080/"
        },
        "id": "kqhtw6dyxmDW",
        "outputId": "59f9ee9f-a37b-48dc-e111-da66e47d2659"
      },
      "outputs": [
        {
          "data": {
            "text/plain": [
              "[]"
            ]
          },
          "execution_count": 7,
          "metadata": {},
          "output_type": "execute_result"
        }
      ],
      "source": [
        "# Web Scraping the Product Exchange Offers of Samsung TV\n",
        "\n",
        "s_exchange=s_soup.find_all('div',class_='ofrPrd')\n",
        "S_Exchange=[]\n",
        "for i in s_exchange:\n",
        "  f=i.get_text()\n",
        "  S_Exchange.append(f)\n",
        "S_Exchange"
      ]
    },
    {
      "cell_type": "code",
      "execution_count": 8,
      "metadata": {
        "colab": {
          "base_uri": "https://localhost:8080/"
        },
        "id": "prxyQpemvgDx",
        "outputId": "6790a9bf-7474-472f-8e15-88bbc474a1a4"
      },
      "outputs": [
        {
          "data": {
            "text/plain": [
              "[]"
            ]
          },
          "execution_count": 8,
          "metadata": {},
          "output_type": "execute_result"
        }
      ],
      "source": [
        "# Web Scraping the Product URL Limks of Samsung TV\n",
        "\n",
        "\n",
        "s_url=s_soup.find_all('a',id='pdpId_')\n",
        "S_URL=[]\n",
        "for i in s_url:\n",
        "  f=i['href']\n",
        "  S_URL.append(f)\n",
        "S_URL"
      ]
    },
    {
      "cell_type": "code",
      "execution_count": 9,
      "metadata": {
        "colab": {
          "base_uri": "https://localhost:8080/"
        },
        "id": "mgVngmh30-W7",
        "outputId": "f6f6fd33-3dd0-498e-a31d-9af26e76c0d2"
      },
      "outputs": [
        {
          "name": "stdout",
          "output_type": "stream",
          "text": [
            "<Response [404]>\n"
          ]
        }
      ],
      "source": [
        "# Requesting The Connection with Link\n",
        "\n",
        "lg_res=requests.get('https://www.vijaysales.com/tv-and-entertainment/televisions/brand/buy-lg-televisions')\n",
        "print(lg_res)"
      ]
    },
    {
      "cell_type": "code",
      "execution_count": 10,
      "metadata": {
        "colab": {
          "base_uri": "https://localhost:8080/"
        },
        "id": "OoCa98py1M5R",
        "outputId": "517627a5-1014-415f-d22b-c0fef9d60b81"
      },
      "outputs": [
        {
          "data": {
            "text/plain": [
              "[]"
            ]
          },
          "execution_count": 10,
          "metadata": {},
          "output_type": "execute_result"
        }
      ],
      "source": [
        "# Web Scraping the Product Names of LG TV\n",
        "\n",
        "lg_soup=BeautifulSoup(lg_res.content,'html.parser')\n",
        "lg_names=lg_soup.find_all('h2',class_='BcktPrdNm_')\n",
        "LG_Names=[]\n",
        "for i in lg_names:\n",
        "  f=i.get_text()\n",
        "  LG_Names.append(f)\n",
        "LG_Names"
      ]
    },
    {
      "cell_type": "code",
      "execution_count": 11,
      "metadata": {
        "colab": {
          "base_uri": "https://localhost:8080/"
        },
        "id": "PrhcrpJ51iKf",
        "outputId": "66637209-8468-49c4-9d17-2c8001b7dd5c"
      },
      "outputs": [
        {
          "data": {
            "text/plain": [
              "[]"
            ]
          },
          "execution_count": 11,
          "metadata": {},
          "output_type": "execute_result"
        }
      ],
      "source": [
        "# Web Scraping the Product Price of LG TV\n",
        "\n",
        "lg_price=lg_soup.find_all('span',class_='Prdvsprc_')\n",
        "LG_Price=[]\n",
        "for i in lg_price:\n",
        "  f=i.get_text()\n",
        "  LG_Price.append(f)\n",
        "LG_Price\n",
        "Lg_Price=[]\n",
        "for i in LG_Price:\n",
        "  ss=re.sub('[^A-Za-z0-9]+', '', i)\n",
        "  Lg_Price.append(ss)\n",
        "Lg_Price"
      ]
    },
    {
      "cell_type": "code",
      "execution_count": 12,
      "metadata": {
        "colab": {
          "base_uri": "https://localhost:8080/"
        },
        "id": "QYIEMRs21vCR",
        "outputId": "fd8b35d7-b12e-4cd2-8f7f-66745f39ff0c"
      },
      "outputs": [
        {
          "data": {
            "text/plain": [
              "[]"
            ]
          },
          "execution_count": 12,
          "metadata": {},
          "output_type": "execute_result"
        }
      ],
      "source": [
        "# Web Scraping the Product EMI Details of LG TV\n",
        "\n",
        "lg_emi=lg_soup.find_all('div',class_='BcktPrdemi h54')\n",
        "LG_EMI=[]\n",
        "for i in lg_emi:\n",
        "  f=i.get_text()\n",
        "  LG_EMI.append(f)\n",
        "LG_EMI"
      ]
    },
    {
      "cell_type": "code",
      "execution_count": 13,
      "metadata": {
        "colab": {
          "base_uri": "https://localhost:8080/"
        },
        "id": "eL7ixoU_16nT",
        "outputId": "800c5f08-3722-42a6-b284-0054dac80876"
      },
      "outputs": [
        {
          "data": {
            "text/plain": [
              "[]"
            ]
          },
          "execution_count": 13,
          "metadata": {},
          "output_type": "execute_result"
        }
      ],
      "source": [
        "# Web Scraping the Product Exchange Offers of LG TV\n",
        "\n",
        "lg_exchange=lg_soup.find_all('div',class_='ofrPrd')\n",
        "LG_Exchange=[]\n",
        "for i in lg_exchange:\n",
        "  f=i.get_text()\n",
        "  LG_Exchange.append(f)\n",
        "LG_Exchange"
      ]
    },
    {
      "cell_type": "code",
      "execution_count": 14,
      "metadata": {
        "colab": {
          "base_uri": "https://localhost:8080/"
        },
        "id": "ORlQEcVY2IUC",
        "outputId": "46e95fa2-66e4-4299-9f62-43df5b272188"
      },
      "outputs": [
        {
          "data": {
            "text/plain": [
              "[]"
            ]
          },
          "execution_count": 14,
          "metadata": {},
          "output_type": "execute_result"
        }
      ],
      "source": [
        "# Web Scraping the Product URL Links of LG TV\n",
        "\n",
        "lg_url=lg_soup.find_all('a',id='pdpId_')\n",
        "LG_URL=[]\n",
        "for i in lg_url:\n",
        "  f=i['href']\n",
        "  LG_URL.append(f)\n",
        "LG_URL"
      ]
    },
    {
      "cell_type": "code",
      "execution_count": 15,
      "metadata": {
        "colab": {
          "base_uri": "https://localhost:8080/",
          "height": 426
        },
        "id": "18NxZPX22bct",
        "outputId": "60be4d6a-a449-4cb8-d52f-cb5f03931640"
      },
      "outputs": [
        {
          "data": {
            "text/html": [
              "<div>\n",
              "<style scoped>\n",
              "    .dataframe tbody tr th:only-of-type {\n",
              "        vertical-align: middle;\n",
              "    }\n",
              "\n",
              "    .dataframe tbody tr th {\n",
              "        vertical-align: top;\n",
              "    }\n",
              "\n",
              "    .dataframe thead th {\n",
              "        text-align: right;\n",
              "    }\n",
              "</style>\n",
              "<table border=\"1\" class=\"dataframe\">\n",
              "  <thead>\n",
              "    <tr style=\"text-align: right;\">\n",
              "      <th></th>\n",
              "      <th>Name</th>\n",
              "      <th>Price</th>\n",
              "      <th>EMI</th>\n",
              "      <th>EXCHANGE</th>\n",
              "      <th>URL</th>\n",
              "    </tr>\n",
              "  </thead>\n",
              "  <tbody>\n",
              "  </tbody>\n",
              "</table>\n",
              "</div>"
            ],
            "text/plain": [
              "Empty DataFrame\n",
              "Columns: [Name, Price, EMI, EXCHANGE, URL]\n",
              "Index: []"
            ]
          },
          "execution_count": 15,
          "metadata": {},
          "output_type": "execute_result"
        }
      ],
      "source": [
        "# Creating Table from all the Web Scraped Data on Samsung TV\n",
        "\n",
        "SAMSUNG=pandas.DataFrame({'Name':S_Names,'Price':Sam_Price,'EMI':S_EMI,'EXCHANGE':S_Exchange,'URL':S_URL})\n",
        "SAMSUNG"
      ]
    },
    {
      "cell_type": "code",
      "execution_count": 16,
      "metadata": {
        "colab": {
          "base_uri": "https://localhost:8080/",
          "height": 426
        },
        "id": "9kSWeCIA3GUM",
        "outputId": "11484bf3-3411-4061-c50a-d3f4ee04ad76"
      },
      "outputs": [
        {
          "data": {
            "text/html": [
              "<div>\n",
              "<style scoped>\n",
              "    .dataframe tbody tr th:only-of-type {\n",
              "        vertical-align: middle;\n",
              "    }\n",
              "\n",
              "    .dataframe tbody tr th {\n",
              "        vertical-align: top;\n",
              "    }\n",
              "\n",
              "    .dataframe thead th {\n",
              "        text-align: right;\n",
              "    }\n",
              "</style>\n",
              "<table border=\"1\" class=\"dataframe\">\n",
              "  <thead>\n",
              "    <tr style=\"text-align: right;\">\n",
              "      <th></th>\n",
              "      <th>Name</th>\n",
              "      <th>Price</th>\n",
              "      <th>EMI</th>\n",
              "      <th>EXCHANGE</th>\n",
              "      <th>URL</th>\n",
              "    </tr>\n",
              "  </thead>\n",
              "  <tbody>\n",
              "  </tbody>\n",
              "</table>\n",
              "</div>"
            ],
            "text/plain": [
              "Empty DataFrame\n",
              "Columns: [Name, Price, EMI, EXCHANGE, URL]\n",
              "Index: []"
            ]
          },
          "execution_count": 16,
          "metadata": {},
          "output_type": "execute_result"
        }
      ],
      "source": [
        "# Creating Table from all the Web Scraped Data on LG TV\n",
        "\n",
        "LG=pandas.DataFrame({'Name':LG_Names,'Price':Lg_Price,'EMI':LG_EMI,'EXCHANGE':LG_Exchange,'URL':LG_URL})\n",
        "LG"
      ]
    },
    {
      "cell_type": "code",
      "execution_count": 17,
      "metadata": {
        "id": "OQf9XR4FAHpX"
      },
      "outputs": [],
      "source": [
        "SAMSUNG.to_csv('Samsung.csv')\n",
        "LG.to_csv('LG.csv')"
      ]
    },
    {
      "cell_type": "code",
      "execution_count": 18,
      "metadata": {
        "colab": {
          "base_uri": "https://localhost:8080/",
          "height": 426
        },
        "id": "APC2hAnm3VJ1",
        "outputId": "062649dd-009c-4f17-bea9-a3647bd89b5b"
      },
      "outputs": [
        {
          "data": {
            "text/html": [
              "<div>\n",
              "<style scoped>\n",
              "    .dataframe tbody tr th:only-of-type {\n",
              "        vertical-align: middle;\n",
              "    }\n",
              "\n",
              "    .dataframe tbody tr th {\n",
              "        vertical-align: top;\n",
              "    }\n",
              "\n",
              "    .dataframe thead th {\n",
              "        text-align: right;\n",
              "    }\n",
              "</style>\n",
              "<table border=\"1\" class=\"dataframe\">\n",
              "  <thead>\n",
              "    <tr style=\"text-align: right;\">\n",
              "      <th></th>\n",
              "      <th>Samsung</th>\n",
              "      <th>Lg</th>\n",
              "    </tr>\n",
              "  </thead>\n",
              "  <tbody>\n",
              "  </tbody>\n",
              "</table>\n",
              "</div>"
            ],
            "text/plain": [
              "Empty DataFrame\n",
              "Columns: [Samsung, Lg]\n",
              "Index: []"
            ]
          },
          "execution_count": 18,
          "metadata": {},
          "output_type": "execute_result"
        }
      ],
      "source": [
        "# Creating Table Bringing together the Prices of Samsung and LG TV\n",
        "\n",
        "price=pandas.DataFrame({'Samsung':SAMSUNG['Price'],'Lg':LG['Price']})\n",
        "price"
      ]
    },
    {
      "cell_type": "code",
      "execution_count": 19,
      "metadata": {
        "id": "LgkZoXCUTl86"
      },
      "outputs": [],
      "source": [
        "# Convering the Prices from Object to Integers\n",
        "\n",
        "price['Samsung']=price['Samsung'].astype('int')\n",
        "price['Lg']=price['Lg'].astype('int')"
      ]
    },
    {
      "cell_type": "code",
      "execution_count": 20,
      "metadata": {
        "colab": {
          "base_uri": "https://localhost:8080/",
          "height": 469
        },
        "id": "PR1-i3BmYiI4",
        "outputId": "be92387d-7dff-42c2-f679-1249563c601a"
      },
      "outputs": [
        {
          "name": "stdout",
          "output_type": "stream",
          "text": [
            "Average Price Difference between Samsung and LG is  nan\n"
          ]
        },
        {
          "data": {
            "image/png": "[encoded data removed]",
            "text/plain": [
              "<Figure size 640x480 with 1 Axes>"
            ]
          },
          "metadata": {},
          "output_type": "display_data"
        }
      ],
      "source": [
        "# Plotting Bar Chart To represent the difference in the average of Price of Both the TV Brands\n",
        "\n",
        "import matplotlib.pyplot as plt\n",
        "plt.bar('Samsung',price['Samsung'].mean())\n",
        "plt.bar('LG',price['Lg'].mean())\n",
        "plt.title('Average Price Comparison of Television of Samsung and LG')\n",
        "plt.plot()\n",
        "\n",
        "# Average Price Difference between Samsung and LG\n",
        "avg_difference=price['Samsung'].mean()-price['Lg'].mean()\n",
        "print('Average Price Difference between Samsung and LG is ',avg_difference)"
      ]
    }
  ],
  "metadata": {
    "colab": {
      "provenance": []
    },
    "kernelspec": {
      "display_name": "Python 3",
      "name": "python3"
    },
    "language_info": {
      "codemirror_mode": {
        "name": "ipython",
        "version": 3
      },
      "file_extension": ".py",
      "mimetype": "text/x-python",
      "name": "python",
      "nbconvert_exporter": "python",
      "pygments_lexer": "ipython3",
      "version": "3.12.5"
    }
  },
  "nbformat": 4,
  "nbformat_minor": 0
}
